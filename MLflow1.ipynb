{
 "cells": [
  {
   "cell_type": "code",
   "execution_count": 17,
   "metadata": {},
   "outputs": [],
   "source": [
    "import pandas as pd\n",
    "from sklearn.ensemble import RandomForestClassifier\n",
    "from sklearn.svm import SVC\n",
    "from xgboost import XGBClassifier\n",
    "from sklearn.model_selection import GridSearchCV\n",
    "import lightgbm as lgb\n",
    "from catboost import CatBoostClassifier\n",
    "from sklearn.metrics import accuracy_score, classification_report\n",
    "import mlflow\n",
    "import mlflow.sklearn\n",
    "import numpy as np"
   ]
  },
  {
   "cell_type": "code",
   "execution_count": 18,
   "metadata": {},
   "outputs": [],
   "source": [
    "\n",
    "dt = pd.read_csv(\"./dataCleaned.csv\")\n",
    "\n",
    "train = dt[(dt[\"season\"] < 2022) & (dt[\"season\"] >= 2015)]\n",
    "test = dt[dt[\"season\"] >= 2022]\n",
    "\n",
    "x_train = train.drop([\"Result_code\", \"Unnamed: 0\"], axis=1)\n",
    "y_train = train[\"Result_code\"]\n",
    "x_test = test.drop([\"Result_code\", \"Unnamed: 0\"], axis=1)\n",
    "y_test = test[\"Result_code\"]"
   ]
  },
  {
   "cell_type": "markdown",
   "metadata": {},
   "source": [
    "# Randomforest"
   ]
  },
  {
   "cell_type": "code",
   "execution_count": null,
   "metadata": {},
   "outputs": [],
   "source": [
    "\n",
    "with mlflow.start_run():\n",
    "    rf = RandomForestClassifier(n_estimators=50, min_samples_split=10, random_state=1)\n",
    "    rf.fit(x_train, y_train)\n",
    "    predict_rf = rf.predict(x_test)\n",
    "    acc_rf = accuracy_score(y_test, predict_rf)\n",
    "    print(classification_report(y_test, predict_rf))\n",
    "\n",
    "    mlflow.log_param(\"n_estimators\", 50)\n",
    "    mlflow.log_param(\"min_samples_split\", 10)\n",
    "    mlflow.log_metric(\"accuracy\", acc_rf)\n"
   ]
  },
  {
   "cell_type": "markdown",
   "metadata": {},
   "source": [
    "# SVM "
   ]
  },
  {
   "cell_type": "code",
   "execution_count": null,
   "metadata": {},
   "outputs": [],
   "source": [
    "\n",
    "with mlflow.start_run():\n",
    "    svm = SVC(kernel='linear', C=1.0)\n",
    "    svm.fit(x_train, y_train)\n",
    "    pred_svm = svm.predict(x_test)\n",
    "    acc_svm = accuracy_score(y_test, pred_svm)\n",
    "    print(classification_report(y_test, pred_svm))\n",
    "\n",
    "    mlflow.log_metric(\"accuracy\", acc_svm)\n"
   ]
  },
  {
   "cell_type": "markdown",
   "metadata": {},
   "source": [
    "## XGBoost"
   ]
  },
  {
   "cell_type": "code",
   "execution_count": null,
   "metadata": {},
   "outputs": [],
   "source": [
    "\n",
    "\n",
    "with mlflow.start_run():\n",
    "    model = XGBClassifier()\n",
    "    param_grid = {\n",
    "        'learning_rate': [0.01, 0.1, 0.2],\n",
    "        'max_depth': [3, 4, 5],\n",
    "        'n_estimators': [50, 100, 200]\n",
    "    }\n",
    "    grid_search = GridSearchCV(estimator=model, param_grid=param_grid, scoring='neg_mean_squared_error', cv=3, verbose=1)\n",
    "    grid_search.fit(x_train, y_train)\n",
    "    best_model = grid_search.best_estimator_\n",
    "    test_predictions = best_model.predict(x_test)\n",
    "    print(classification_report(y_test, test_predictions))\n",
    "\n",
    "    mlflow.log_params(grid_search.best_params_)\n",
    "   \n",
    "\n",
    "\n",
    "\n",
    "\n"
   ]
  },
  {
   "cell_type": "markdown",
   "metadata": {},
   "source": [
    "## Light GBM"
   ]
  },
  {
   "cell_type": "code",
   "execution_count": null,
   "metadata": {},
   "outputs": [],
   "source": [
    "with mlflow.start_run():\n",
    "    mlflow.autolog()\n",
    "    train_data = lgb.Dataset(x_train, label=y_train)\n",
    "    test_data = lgb.Dataset(x_test, label=y_test, reference=train_data)\n",
    "    params = {\n",
    "        'objective': 'multiclass',\n",
    "        'num_class': 3,\n",
    "        'metric': 'multi_logloss',\n",
    "        'boosting_type': 'gbdt',\n",
    "        'num_leaves': 31,\n",
    "        'learning_rate': 0.05,\n",
    "        'feature_fraction': 0.9\n",
    "    }\n",
    "    num_round = 100\n",
    "    model = lgb.train(params, train_data, num_round, valid_sets=[test_data])\n",
    "    y_pred_prob = model.predict(x_test, num_iteration=model.best_iteration)\n",
    "    predGBM = np.argmax(y_pred_prob, axis=1)\n",
    "\n",
    "    accuracy = accuracy_score(y_test, predGBM)\n",
    "    print(classification_report(y_test, predGBM))\n",
    "\n",
    "    mlflow.log_param(\"num_leaves\", 31)\n",
    "    mlflow.log_param(\"learning_rate\", 0.05)\n",
    "    mlflow.log_metric(\"accuracy\", accuracy)"
   ]
  },
  {
   "cell_type": "markdown",
   "metadata": {},
   "source": [
    "## CatBoost"
   ]
  },
  {
   "cell_type": "code",
   "execution_count": null,
   "metadata": {},
   "outputs": [],
   "source": [
    "with mlflow.start_run():\n",
    "    mlflow.autolog()\n",
    "    model = CatBoostClassifier(iterations=100, depth=6, learning_rate=0.1, loss_function='MultiClass')\n",
    "    model.fit(x_train, y_train.astype(str), verbose=10)\n",
    "    predCat = model.predict(x_test)\n",
    "\n",
    "    accuracy = accuracy_score(y_test.astype(str), predCat)\n",
    "    print(classification_report(y_test.astype(str), predCat))\n",
    "\n",
    "    mlflow.log_metric(\"accuracy\", accuracy)"
   ]
  },
  {
   "cell_type": "code",
   "execution_count": null,
   "metadata": {},
   "outputs": [],
   "source": []
  }
 ],
 "metadata": {
  "kernelspec": {
   "display_name": "Python 3",
   "language": "python",
   "name": "python3"
  },
  "language_info": {
   "codemirror_mode": {
    "name": "ipython",
    "version": 3
   },
   "file_extension": ".py",
   "mimetype": "text/x-python",
   "name": "python",
   "nbconvert_exporter": "python",
   "pygments_lexer": "ipython3",
   "version": "3.11.5"
  }
 },
 "nbformat": 4,
 "nbformat_minor": 2
}
