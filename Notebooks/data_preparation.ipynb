{
 "cells": [
  {
   "cell_type": "code",
   "execution_count": 5,
   "metadata": {},
   "outputs": [],
   "source": [
    "import os\n",
    "import pandas as pd"
   ]
  },
  {
   "cell_type": "code",
   "execution_count": 6,
   "metadata": {},
   "outputs": [],
   "source": [
    "def concat_season():\n",
    "    seasons=os.listdir(\".\")\n",
    "    header=[\"Date\",\"Time\",\"Comp\",\"Round\",\"Day\",\"Venue\",\"Result\",\"GF\",\"GA\",\"Opponent\",\"Poss\",\"Attendance\",\"Captain\",\"Formation\",\"Referee\",\"Match Report\",\"Notes\",\"team\",\"season\"]\n",
    "    data=pd.DataFrame(columns=header)\n",
    "    for season in seasons:\n",
    "        if \"-\" in season:\n",
    "            print(season)\n",
    "            equipes=os.listdir(f\"./{season}\")\n",
    "            for equipe in equipes:\n",
    "                if \"Stats\" in equipe:\n",
    "                    fils=pd.read_csv(f\"./{season}/{equipe}/{equipe}.csv\")\n",
    "                    fils[\"team\"]= \" \".join(equipe.split(\"-\")[:-1])\n",
    "                    fils[\"season\"]=season.split(\"-\")[0]\n",
    "                    data=pd.concat([data, fils], ignore_index=True)\n",
    "    data.to_csv(\"dataset.csv\")\n",
    "    return data"
   ]
  },
  {
   "cell_type": "code",
   "execution_count": null,
   "metadata": {},
   "outputs": [],
   "source": [
    "data=concat_season()"
   ]
  },
  {
   "cell_type": "code",
   "execution_count": null,
   "metadata": {},
   "outputs": [],
   "source": []
  }
 ],
 "metadata": {
  "kernelspec": {
   "display_name": "Python 3",
   "language": "python",
   "name": "python3"
  },
  "language_info": {
   "codemirror_mode": {
    "name": "ipython",
    "version": 3
   },
   "file_extension": ".py",
   "mimetype": "text/x-python",
   "name": "python",
   "nbconvert_exporter": "python",
   "pygments_lexer": "ipython3",
   "version": "3.10.7"
  }
 },
 "nbformat": 4,
 "nbformat_minor": 2
}
